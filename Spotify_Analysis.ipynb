{
 "cells": [
  {
   "cell_type": "code",
   "execution_count": 6,
   "metadata": {
    "collapsed": true
   },
   "outputs": [],
   "source": [
    "from collections import Counter # raw Python version of np.unique (counting frequency)\n",
    "from itertools import chain     # list flattener\n",
    "import re                       # string cleaner\n",
    "from random import choice       # proof of data import\n",
    "# Dataset obtained from http://spotlistr.herokuapp.com/#/export/spotify-playlist"
   ]
  },
  {
   "cell_type": "code",
   "execution_count": 7,
   "metadata": {
    "collapsed": false
   },
   "outputs": [
    {
     "name": "stdout",
     "output_type": "stream",
     "text": [
      "Loaded data successfully! Sample:\n",
      "['Lusine', 'Two Dots', 'A Certain Distance', '00:04:38']\n"
     ]
    }
   ],
   "source": [
    "# Unicode is annoying sometimes https://stackoverflow.com/questions/6375343/reading-unicode-elements-into-numpy-array\n",
    "# I chose to just use default Python lists this time around as a result\n",
    "data = [x.split('|') for x in open('spotify_201802.txt', encoding='utf-8').read().split('\\n')]\n",
    "data = [[y.lstrip(' ').rstrip(' ') for y in x] for x in data][:-1] # Last term appears to be empty\n",
    "print('Loaded data successfully! Sample:')\n",
    "print(choice(data))"
   ]
  },
  {
   "cell_type": "code",
   "execution_count": 8,
   "metadata": {
    "collapsed": true
   },
   "outputs": [],
   "source": [
    "def freq_print(info, top_n=25):\n",
    "    info_freq = Counter(info)\n",
    "    for info_term in info_freq.most_common(top_n):\n",
    "        print(info_term)"
   ]
  },
  {
   "cell_type": "code",
   "execution_count": 9,
   "metadata": {
    "collapsed": false
   },
   "outputs": [
    {
     "name": "stdout",
     "output_type": "stream",
     "text": [
      "Which artists do I like the most?\n",
      "('Pogo', 7)\n",
      "('Siriusmo', 7)\n",
      "('Lone', 5)\n",
      "('Blue States', 5)\n",
      "('Ramin Djawadi', 5)\n",
      "('cYsmix', 4)\n",
      "('Blockhead', 4)\n",
      "('Bonobo', 4)\n",
      "('The Flashbulb', 4)\n",
      "('Air', 3)\n",
      "('Nosaj Thing', 3)\n",
      "('Hundred Waters', 3)\n",
      "('Cid Rim', 3)\n",
      "('Made in Heights', 3)\n",
      "('Tettix', 3)\n",
      "('Haywyre', 3)\n",
      "('Wim Mertens', 3)\n",
      "('Anitek', 3)\n",
      "('Koyö', 3)\n",
      "('meganeko', 3)\n",
      "('Kero Kero Bonito', 3)\n",
      "('WEDNESDAY CAMPANELLA', 3)\n",
      "('Goldfrapp', 2)\n",
      "('Cashmere Cat', 2)\n",
      "('Michal Menert', 2)\n"
     ]
    }
   ],
   "source": [
    "print('Which artists do I like the most?')\n",
    "artists = [x[0] for x in data]\n",
    "freq_print(artists)"
   ]
  },
  {
   "cell_type": "code",
   "execution_count": 73,
   "metadata": {
    "collapsed": false,
    "scrolled": false
   },
   "outputs": [
    {
     "name": "stdout",
     "output_type": "stream",
     "text": [
      "Which words in song titles do I like the most?\n",
      "('The', 40)\n",
      "('Remix', 28)\n",
      "('the', 24)\n",
      "('of', 23)\n",
      "('Mix', 20)\n",
      "('feat', 18)\n",
      "('Original', 14)\n",
      "('In', 14)\n",
      "('A', 13)\n",
      "('You', 10)\n",
      "('I', 9)\n",
      "('Is', 9)\n",
      "('Me', 9)\n",
      "('Time', 8)\n",
      "('My', 7)\n",
      "('in', 7)\n",
      "('From', 7)\n",
      "('Theme', 6)\n",
      "('It', 6)\n",
      "('Light', 6)\n",
      "('Space', 6)\n",
      "('Out', 5)\n",
      "('This', 5)\n",
      "('With', 5)\n",
      "('Black', 5)\n"
     ]
    }
   ],
   "source": [
    "print('Which words in song titles do I like the most?')\n",
    "titles = [x[1] for x in data]\n",
    "word_gen = [title.split(' ') for title in titles]\n",
    "flattened = list(chain(*word_gen))\n",
    "bad_chars = '[()\\[\\]\\-.?!]'\n",
    "cleaned = [re.sub(bad_chars,'',x) for x in flattened if x != '-' and x != '/']\n",
    "freq_print(cleaned)"
   ]
  },
  {
   "cell_type": "code",
   "execution_count": null,
   "metadata": {
    "collapsed": true
   },
   "outputs": [],
   "source": []
  }
 ],
 "metadata": {
  "kernelspec": {
   "display_name": "Python 3",
   "language": "python",
   "name": "python3"
  },
  "language_info": {
   "codemirror_mode": {
    "name": "ipython",
    "version": 3
   },
   "file_extension": ".py",
   "mimetype": "text/x-python",
   "name": "python",
   "nbconvert_exporter": "python",
   "pygments_lexer": "ipython3",
   "version": "3.6.0"
  }
 },
 "nbformat": 4,
 "nbformat_minor": 2
}
